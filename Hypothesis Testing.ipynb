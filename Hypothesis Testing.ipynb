{
 "cells": [
  {
   "cell_type": "markdown",
   "id": "8d6bb4ca",
   "metadata": {},
   "source": [
    "# HYPOTHESIS TESTING"
   ]
  },
  {
   "cell_type": "code",
   "execution_count": 1,
   "id": "a9a9f65c",
   "metadata": {},
   "outputs": [],
   "source": [
    "import numpy as np \n",
    "from scipy.stats import t"
   ]
  },
  {
   "cell_type": "markdown",
   "id": "31ca359b",
   "metadata": {},
   "source": [
    "step 1: state the Hypotheses statement \n",
    "\n",
    "Null Hypothesis(Ho): The mean weekly operating cost accrording to the theoretical model is accurate Alternative \n",
    "\n",
    "Hypothesis(H1):The mean weekly operating cost is higher than what the theoretical model predicts"
   ]
  },
  {
   "cell_type": "markdown",
   "id": "cc96f549",
   "metadata": {},
   "source": [
    "step 2: calculate the Test statistic"
   ]
  },
  {
   "cell_type": "code",
   "execution_count": 2,
   "id": "93e19692",
   "metadata": {},
   "outputs": [
    {
     "data": {
      "text/plain": [
       "-38.0"
      ]
     },
     "execution_count": 2,
     "metadata": {},
     "output_type": "execute_result"
    }
   ],
   "source": [
    "sample_mean = 3050  # sample mean weekly cost (Rs. 3,050)\n",
    "theoretical_mean = 1000 + 5 * 600  # theoretical mean weekly cost according to the model\n",
    "standard_deviation = 5 * 25  # standard deviation\n",
    "sample_size = 25  # sample size\n",
    "\n",
    "# Calculate the test statistic (t)\n",
    "t_statistic = (sample_mean - theoretical_mean) / (standard_deviation / np.sqrt(sample_size))\n",
    "t_statistic"
   ]
  },
  {
   "cell_type": "markdown",
   "id": "ad3ac1ec",
   "metadata": {},
   "source": [
    "Step 3: Determine the Critical Value"
   ]
  },
  {
   "cell_type": "code",
   "execution_count": 3,
   "id": "205a7ceb",
   "metadata": {},
   "outputs": [
    {
     "data": {
      "text/plain": [
       "1.7108820799094275"
      ]
     },
     "execution_count": 3,
     "metadata": {},
     "output_type": "execute_result"
    }
   ],
   "source": [
    "alpha = 0.05  # significance level\n",
    "\n",
    "# Degrees of freedom (df) = sample_size - 1\n",
    "df = sample_size - 1\n",
    "\n",
    "# Calculate the critical value from the t-distribution\n",
    "critical_value = t.ppf(1 - alpha, df)\n",
    "critical_value"
   ]
  },
  {
   "cell_type": "markdown",
   "id": "f8aa9c57",
   "metadata": {},
   "source": [
    "Make a Decision Decision Rule: If t_statistic > critical_value, reject H0; otherwise, fail to reject H0."
   ]
  },
  {
   "cell_type": "code",
   "execution_count": 4,
   "id": "e1d728cb",
   "metadata": {},
   "outputs": [
    {
     "name": "stdout",
     "output_type": "stream",
     "text": [
      "Fail to reject the null hypothesis: There is not enough evidence to support the claim that the weekly operating costs are higher than the model suggests.\n"
     ]
    }
   ],
   "source": [
    "if t_statistic > critical_value:\n",
    "    print(\"Reject the null hypothesis: There is strong evidence to support the claim that the weekly operating costs are higher than the model suggests.\")\n",
    "else:\n",
    "    print(\"Fail to reject the null hypothesis: There is not enough evidence to support the claim that the weekly operating costs are higher than the model suggests.\")\n"
   ]
  },
  {
   "cell_type": "markdown",
   "id": "1b5cc6b2",
   "metadata": {},
   "source": [
    "step 5:Conclusion Based on the critical value we fail to reject the null hypothesis.\n",
    "\n",
    "There is not enough evidence to support the claim that the weekly operating costs are higher than the model suggests."
   ]
  },
  {
   "cell_type": "code",
   "execution_count": null,
   "id": "fdba7689",
   "metadata": {},
   "outputs": [],
   "source": []
  }
 ],
 "metadata": {
  "kernelspec": {
   "display_name": "Python 3 (ipykernel)",
   "language": "python",
   "name": "python3"
  },
  "language_info": {
   "codemirror_mode": {
    "name": "ipython",
    "version": 3
   },
   "file_extension": ".py",
   "mimetype": "text/x-python",
   "name": "python",
   "nbconvert_exporter": "python",
   "pygments_lexer": "ipython3",
   "version": "3.11.5"
  }
 },
 "nbformat": 4,
 "nbformat_minor": 5
}

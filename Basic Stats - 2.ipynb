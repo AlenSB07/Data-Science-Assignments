{
 "cells": [
  {
   "cell_type": "markdown",
   "id": "d4bed169",
   "metadata": {},
   "source": [
    "# Estimation And Confidence Intervals"
   ]
  },
  {
   "cell_type": "markdown",
   "id": "436d36a9",
   "metadata": {},
   "source": [
    "### 99% Confidence interval for Sample Standard Deviation"
   ]
  },
  {
   "cell_type": "code",
   "execution_count": 1,
   "id": "8a3f3bb2",
   "metadata": {},
   "outputs": [],
   "source": [
    "import numpy as np\n",
    "import pandas as pd\n",
    "import scipy.stats as st\n",
    "import math\n",
    "import random"
   ]
  },
  {
   "cell_type": "code",
   "execution_count": 2,
   "id": "36b07a6f",
   "metadata": {},
   "outputs": [
    {
     "name": "stdout",
     "output_type": "stream",
     "text": [
      "       0\n",
      "0   1.13\n",
      "1   1.55\n",
      "2   1.43\n",
      "3   0.92\n",
      "4   1.25\n",
      "5   1.36\n",
      "6   1.32\n",
      "7   0.85\n",
      "8   1.07\n",
      "9   1.48\n",
      "10  1.20\n",
      "11  1.33\n",
      "12  1.18\n",
      "13  1.22\n",
      "14  1.29\n"
     ]
    }
   ],
   "source": [
    "ci=(1.13, 1.55, 1.43, 0.92, 1.25, 1.36, 1.32, 0.85, 1.07, 1.48, 1.20, 1.33, 1.18, 1.22, 1.29)\n",
    "ci1=pd.DataFrame(ci)\n",
    "print(ci1)"
   ]
  },
  {
   "cell_type": "code",
   "execution_count": 3,
   "id": "2ebf5d3d",
   "metadata": {},
   "outputs": [
    {
     "name": "stdout",
     "output_type": "stream",
     "text": [
      "0    1.238667\n",
      "dtype: float64\n"
     ]
    }
   ],
   "source": [
    "mu=ci1.mean()\n",
    "print(mu)"
   ]
  },
  {
   "cell_type": "code",
   "execution_count": 4,
   "id": "4b0a1c96",
   "metadata": {},
   "outputs": [
    {
     "name": "stdout",
     "output_type": "stream",
     "text": [
      "0    0.193164\n",
      "dtype: float64\n"
     ]
    }
   ],
   "source": [
    "samp_stdev=ci1.std()\n",
    "print(samp_stdev)"
   ]
  },
  {
   "cell_type": "code",
   "execution_count": 5,
   "id": "e4f77616",
   "metadata": {},
   "outputs": [
    {
     "data": {
      "text/plain": [
       "pandas.core.frame.DataFrame"
      ]
     },
     "execution_count": 5,
     "metadata": {},
     "output_type": "execute_result"
    }
   ],
   "source": [
    "type(ci1)"
   ]
  },
  {
   "cell_type": "code",
   "execution_count": 6,
   "id": "38f2dff5",
   "metadata": {},
   "outputs": [
    {
     "data": {
      "text/plain": [
       "15"
      ]
     },
     "execution_count": 6,
     "metadata": {},
     "output_type": "execute_result"
    }
   ],
   "source": [
    "len(ci1)"
   ]
  },
  {
   "cell_type": "code",
   "execution_count": 7,
   "id": "e0d2c523",
   "metadata": {},
   "outputs": [
    {
     "name": "stdout",
     "output_type": "stream",
     "text": [
      "1.3672369387280847\n"
     ]
    }
   ],
   "source": [
    "ci=1.2386+2.58*(0.1931/3.8729)\n",
    "print(ci)"
   ]
  },
  {
   "cell_type": "code",
   "execution_count": 8,
   "id": "7250a8cf",
   "metadata": {},
   "outputs": [
    {
     "name": "stdout",
     "output_type": "stream",
     "text": [
      "1.1099630612719151\n"
     ]
    }
   ],
   "source": [
    "ci=1.2386-2.58*(0.1931/3.8729)\n",
    "print(ci)"
   ]
  },
  {
   "cell_type": "code",
   "execution_count": 10,
   "id": "780834b7",
   "metadata": {},
   "outputs": [
    {
     "name": "stdout",
     "output_type": "stream",
     "text": [
      "Z-critical value:\n",
      "2.0335201492530506\n"
     ]
    }
   ],
   "source": [
    "import scipy.stats as stats\n",
    "\n",
    "n = 15\n",
    "z_crt = stats.norm.ppf(q=0.979)\n",
    "print(\"Z-critical value:\")\n",
    "print(z_crt)\n"
   ]
  },
  {
   "cell_type": "code",
   "execution_count": 11,
   "id": "5c14dd82",
   "metadata": {},
   "outputs": [
    {
     "name": "stdout",
     "output_type": "stream",
     "text": [
      "Z-critical value:\n",
      "2.0335201492530506\n",
      "confidence interval:\n",
      "(0    1.340088\n",
      "dtype: float64, 0    1.137245\n",
      "dtype: float64)\n"
     ]
    }
   ],
   "source": [
    "n=15\n",
    "z_crt=stats.norm.ppf(q=0.979)\n",
    "print(\"Z-critical value:\")\n",
    "print(z_crt)\n",
    "mgr_er=z_crt*(samp_stdev/math.sqrt(n))\n",
    "c_i=(mu+mgr_er,mu-mgr_er)\n",
    "print(\"confidence interval:\")\n",
    "print(c_i)"
   ]
  },
  {
   "cell_type": "markdown",
   "id": "e4deea5e",
   "metadata": {},
   "source": [
    "# 99% Confidence interval using known Population Standard Deviation"
   ]
  },
  {
   "cell_type": "code",
   "execution_count": 12,
   "id": "c45d0c25",
   "metadata": {},
   "outputs": [
    {
     "data": {
      "text/plain": [
       "(0    1.238667\n",
       " dtype: float64,\n",
       " 0    0.193164\n",
       " dtype: float64)"
      ]
     },
     "execution_count": 12,
     "metadata": {},
     "output_type": "execute_result"
    }
   ],
   "source": [
    "ci2=[1.13, 1.55, 1.43, 0.92, 1.25, 1.36, 1.32, 0.85, 1.07, 1.48, 1.20, 1.33, 1.18, 1.22, 1.29]\n",
    "ci3=pd.DataFrame(ci2)\n",
    "ci3.mean(),ci3.std()"
   ]
  },
  {
   "cell_type": "code",
   "execution_count": 13,
   "id": "4d2682ef",
   "metadata": {},
   "outputs": [
    {
     "name": "stdout",
     "output_type": "stream",
     "text": [
      "          kp\n",
      "0   1.521902\n",
      "1   1.140917\n",
      "2   1.235588\n",
      "3   1.259811\n",
      "4   0.940462\n",
      "5   1.331011\n",
      "6   1.240998\n",
      "7   1.227093\n",
      "8   1.158160\n",
      "9   1.173570\n",
      "10  1.343566\n",
      "11  1.459310\n",
      "12  1.137047\n",
      "13  1.390561\n",
      "14  1.152062\n",
      "99% confidence interval: (1.114455254642181, 1.380485761183993)\n"
     ]
    }
   ],
   "source": [
    "kp=np.random.normal(1.2386,0.2,15)\n",
    "kp1=pd.DataFrame(kp,columns=['kp'])\n",
    "print(kp1)\n",
    "mean=kp1['kp'].mean()\n",
    "std=0.2\n",
    "stderr=std/math.sqrt(len(kp1['kp']))\n",
    "ci_99=st.norm.interval(0.99,mean,stderr)\n",
    "print('99% confidence interval:',ci_99)"
   ]
  },
  {
   "cell_type": "code",
   "execution_count": null,
   "id": "0cd47097",
   "metadata": {},
   "outputs": [],
   "source": []
  }
 ],
 "metadata": {
  "kernelspec": {
   "display_name": "Python 3 (ipykernel)",
   "language": "python",
   "name": "python3"
  },
  "language_info": {
   "codemirror_mode": {
    "name": "ipython",
    "version": 3
   },
   "file_extension": ".py",
   "mimetype": "text/x-python",
   "name": "python",
   "nbconvert_exporter": "python",
   "pygments_lexer": "ipython3",
   "version": "3.11.5"
  }
 },
 "nbformat": 4,
 "nbformat_minor": 5
}
